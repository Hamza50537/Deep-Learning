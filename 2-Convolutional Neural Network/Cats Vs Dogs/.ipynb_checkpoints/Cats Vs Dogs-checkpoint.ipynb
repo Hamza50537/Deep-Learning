{
 "cells": [
  {
   "cell_type": "code",
   "execution_count": 6,
   "metadata": {},
   "outputs": [],
   "source": [
    "import numpy as np\n",
    "import pandas as pd\n",
    "from tensorflow.keras.preprocessing.image import ImageDataGenerator\n",
    "import tensorflow as tf"
   ]
  },
  {
   "cell_type": "code",
   "execution_count": 7,
   "metadata": {},
   "outputs": [
    {
     "data": {
      "text/plain": [
       "'2.3.1'"
      ]
     },
     "execution_count": 7,
     "metadata": {},
     "output_type": "execute_result"
    }
   ],
   "source": [
    "tf.__version__"
   ]
  },
  {
   "cell_type": "markdown",
   "metadata": {},
   "source": [
    "# Data Preprocessing (Image Augmentation)\n",
    "* Here we will apply the transformations on the training set images only.\n",
    "* It's being done so to avoid the overfitting.\n",
    "* If we don't apply the transformtions than it will have a huge difference between the accuracy of training and test dataset.\n",
    "* We change the images dimensions,zoom in, zoom out e.t.c.\n"
   ]
  },
  {
   "cell_type": "markdown",
   "metadata": {},
   "source": [
    "## Preprocessing The Training Data"
   ]
  },
  {
   "cell_type": "code",
   "execution_count": 8,
   "metadata": {},
   "outputs": [
    {
     "name": "stdout",
     "output_type": "stream",
     "text": [
      "Found 8000 images belonging to 2 classes.\n"
     ]
    }
   ],
   "source": [
    "train_datagen = ImageDataGenerator(\n",
    "        rescale=1./255,  #feature scaling each pixel(all pixel values between 0 and 1)\n",
    "        shear_range=0.2,\n",
    "        zoom_range=0.2,\n",
    "        horizontal_flip=True)\n",
    "train_generator = train_datagen.flow_from_directory(\n",
    "        'dataset/training_set',\n",
    "        target_size=(80, 80),\n",
    "        batch_size=32,\n",
    "        class_mode='binary') #cat vs dog only 2 options"
   ]
  },
  {
   "cell_type": "markdown",
   "metadata": {},
   "source": [
    "## Preprocessing The Training Data\n",
    "* Here we have applied the only rescale option just to have image pixels range between o to 1 just like train dataset.\n",
    "* Here we have not applied the the other options that we had done for the test dataset."
   ]
  },
  {
   "cell_type": "code",
   "execution_count": 9,
   "metadata": {},
   "outputs": [
    {
     "name": "stdout",
     "output_type": "stream",
     "text": [
      "Found 2000 images belonging to 2 classes.\n"
     ]
    }
   ],
   "source": [
    "test_datagen = ImageDataGenerator(rescale=1./255) \n",
    "validation_generator = test_datagen.flow_from_directory(  \n",
    "        'dataset/test_set',\n",
    "        target_size=(80, 80),\n",
    "        batch_size=32,\n",
    "        class_mode='binary')"
   ]
  },
  {
   "cell_type": "markdown",
   "metadata": {},
   "source": [
    "# Building the Model"
   ]
  },
  {
   "cell_type": "code",
   "execution_count": 11,
   "metadata": {},
   "outputs": [],
   "source": [
    "cnn=tf.keras.models.Sequential()\n",
    "cnn.add(tf.keras.layers.Conv2D(filters=32,kernel_size=3 ,activation='relu', input_shape=[80,80,3]))  #Conv2d Layer\n",
    "cnn.add(tf.keras.layers.MaxPool2D(pool_size=(2, 2),strides=2)) #1st Pooling Layer\n",
    "cnn.add(tf.keras.layers.Conv2D(filters=32,kernel_size=3 ,activation='relu')) # 2nd Conv2d Layer\n",
    "cnn.add(tf.keras.layers.MaxPool2D(pool_size=(2, 2),strides=2)) #2nd Pooling Layer\n",
    "cnn.add(tf.keras.layers.Flatten()) #Flattening Layer\n",
    "cnn.add(tf.keras.layers.Dense(units=128,activation=\"relu\",name=\"layer1\")) #1st Dense here we will use the larger no of neurons(128).\n",
    "cnn.add(tf.keras.layers.Dense(units=1,activation=\"sigmoid\",name=\"layer2\")) #Output Layer 1 neuron cat vs dog.\n"
   ]
  },
  {
   "cell_type": "markdown",
   "metadata": {},
   "source": [
    "# Training the CNN"
   ]
  },
  {
   "cell_type": "code",
   "execution_count": 13,
   "metadata": {},
   "outputs": [
    {
     "name": "stdout",
     "output_type": "stream",
     "text": [
      "Epoch 1/25\n",
      "250/250 [==============================] - 274s 1s/step - loss: 0.6565 - accuracy: 0.6040 - val_loss: 0.5904 - val_accuracy: 0.7015\n",
      "Epoch 2/25\n",
      "250/250 [==============================] - 92s 368ms/step - loss: 0.5855 - accuracy: 0.6896 - val_loss: 0.5392 - val_accuracy: 0.7370\n",
      "Epoch 3/25\n",
      "250/250 [==============================] - 104s 415ms/step - loss: 0.5418 - accuracy: 0.7274 - val_loss: 0.5431 - val_accuracy: 0.7300\n",
      "Epoch 4/25\n",
      "250/250 [==============================] - 113s 452ms/step - loss: 0.5057 - accuracy: 0.7500 - val_loss: 0.4825 - val_accuracy: 0.7730\n",
      "Epoch 5/25\n",
      "250/250 [==============================] - 90s 360ms/step - loss: 0.4816 - accuracy: 0.7680 - val_loss: 0.4816 - val_accuracy: 0.7660\n",
      "Epoch 6/25\n",
      "250/250 [==============================] - 90s 360ms/step - loss: 0.4653 - accuracy: 0.7766 - val_loss: 0.4779 - val_accuracy: 0.7615\n",
      "Epoch 7/25\n",
      "250/250 [==============================] - 93s 372ms/step - loss: 0.4310 - accuracy: 0.7972 - val_loss: 0.4848 - val_accuracy: 0.7725\n",
      "Epoch 8/25\n",
      "250/250 [==============================] - 90s 361ms/step - loss: 0.4259 - accuracy: 0.8018 - val_loss: 0.4474 - val_accuracy: 0.7970\n",
      "Epoch 9/25\n",
      "250/250 [==============================] - 92s 368ms/step - loss: 0.4110 - accuracy: 0.8108 - val_loss: 0.4501 - val_accuracy: 0.7970\n",
      "Epoch 10/25\n",
      "250/250 [==============================] - 101s 402ms/step - loss: 0.3943 - accuracy: 0.8207 - val_loss: 0.4901 - val_accuracy: 0.7840\n",
      "Epoch 11/25\n",
      "250/250 [==============================] - 88s 351ms/step - loss: 0.3774 - accuracy: 0.8336 - val_loss: 0.4542 - val_accuracy: 0.8010\n",
      "Epoch 12/25\n",
      "250/250 [==============================] - 91s 365ms/step - loss: 0.3666 - accuracy: 0.8313 - val_loss: 0.4953 - val_accuracy: 0.7730\n",
      "Epoch 13/25\n",
      "250/250 [==============================] - 97s 386ms/step - loss: 0.3467 - accuracy: 0.8435 - val_loss: 0.4979 - val_accuracy: 0.7775\n",
      "Epoch 14/25\n",
      "250/250 [==============================] - 87s 349ms/step - loss: 0.3353 - accuracy: 0.8525 - val_loss: 0.4724 - val_accuracy: 0.7925\n",
      "Epoch 15/25\n",
      "250/250 [==============================] - 87s 347ms/step - loss: 0.3215 - accuracy: 0.8594 - val_loss: 0.4906 - val_accuracy: 0.7965\n",
      "Epoch 16/25\n",
      "250/250 [==============================] - 85s 340ms/step - loss: 0.3114 - accuracy: 0.8639 - val_loss: 0.4463 - val_accuracy: 0.8115\n",
      "Epoch 17/25\n",
      "250/250 [==============================] - 84s 335ms/step - loss: 0.2918 - accuracy: 0.8729 - val_loss: 0.5225 - val_accuracy: 0.7820\n",
      "Epoch 18/25\n",
      "250/250 [==============================] - 84s 335ms/step - loss: 0.2754 - accuracy: 0.8865 - val_loss: 0.6107 - val_accuracy: 0.7695\n",
      "Epoch 19/25\n",
      "250/250 [==============================] - 88s 351ms/step - loss: 0.2707 - accuracy: 0.8836 - val_loss: 0.4894 - val_accuracy: 0.8055\n",
      "Epoch 20/25\n",
      "250/250 [==============================] - 100s 399ms/step - loss: 0.2512 - accuracy: 0.8975 - val_loss: 0.5238 - val_accuracy: 0.8045\n",
      "Epoch 21/25\n",
      "250/250 [==============================] - 95s 379ms/step - loss: 0.2372 - accuracy: 0.9006 - val_loss: 0.6152 - val_accuracy: 0.7950\n",
      "Epoch 22/25\n",
      "250/250 [==============================] - 96s 384ms/step - loss: 0.2202 - accuracy: 0.9106 - val_loss: 0.5185 - val_accuracy: 0.8015\n",
      "Epoch 23/25\n",
      "250/250 [==============================] - 96s 386ms/step - loss: 0.2137 - accuracy: 0.9109 - val_loss: 0.5206 - val_accuracy: 0.8100\n",
      "Epoch 24/25\n",
      "250/250 [==============================] - 104s 417ms/step - loss: 0.2052 - accuracy: 0.9197 - val_loss: 0.5725 - val_accuracy: 0.8025\n",
      "Epoch 25/25\n",
      "250/250 [==============================] - 91s 365ms/step - loss: 0.1922 - accuracy: 0.9250 - val_loss: 0.6120 - val_accuracy: 0.7905\n"
     ]
    },
    {
     "data": {
      "text/plain": [
       "<tensorflow.python.keras.callbacks.History at 0x265708ce808>"
      ]
     },
     "execution_count": 13,
     "metadata": {},
     "output_type": "execute_result"
    }
   ],
   "source": [
    "cnn.compile(optimizer='adam',loss='binary_crossentropy', metrics=['accuracy'])\n",
    "cnn.fit(train_generator,validation_data=validation_generator,epochs=25) #batches were already defined in preprocessing step"
   ]
  },
  {
   "cell_type": "markdown",
   "metadata": {},
   "source": [
    "# Making Predictions"
   ]
  },
  {
   "cell_type": "code",
   "execution_count": 14,
   "metadata": {},
   "outputs": [
    {
     "name": "stdout",
     "output_type": "stream",
     "text": [
      "dog\n"
     ]
    }
   ],
   "source": [
    "import numpy as np\n",
    "from tensorflow.keras.preprocessing import image\n",
    "test_image=image.load_img('dataset/single_prediction/cat_or_dog_1.jpg',\n",
    "                          target_size=(80,80))\n",
    "test_image=image.img_to_array(test_image) #Predict method expects it in 2d array\n",
    "test_image=np.expand_dims(test_image,axis=0) #Dimension of the batch that we are adding will be first dimmension.\n",
    "result=cnn.predict(test_image)\n",
    "# 1 corresponds to dog and 0 corresponds to cat\n",
    "train_generator.class_indices\n",
    "if result[0][0]==1: #result[batch][pic no]\n",
    "    prediction='dog'\n",
    "else:\n",
    "    prediction='cat'\n",
    "    \n",
    "print(prediction)\n"
   ]
  }
 ],
 "metadata": {
  "kernelspec": {
   "display_name": "Python 3",
   "language": "python",
   "name": "python3"
  },
  "language_info": {
   "codemirror_mode": {
    "name": "ipython",
    "version": 3
   },
   "file_extension": ".py",
   "mimetype": "text/x-python",
   "name": "python",
   "nbconvert_exporter": "python",
   "pygments_lexer": "ipython3",
   "version": "3.7.4"
  }
 },
 "nbformat": 4,
 "nbformat_minor": 2
}
